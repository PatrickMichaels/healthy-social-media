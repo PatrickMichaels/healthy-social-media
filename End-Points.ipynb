{
 "cells": [
  {
   "cell_type": "markdown",
   "metadata": {},
   "source": [
    "# Introducing adaptive end points"
   ]
  },
  {
   "cell_type": "markdown",
   "metadata": {},
   "source": [
    "By being able to access the amount of time a user has spent on a social media can allow us to crease an adaptive scheme for displaying end points to the user  \n",
    "In essence this would allow us to show end points more frequently to a user in proption to the amount of time they've spent on the site, Allowing them more control over the length of session spent on site.\n",
    "This should be done in such a way that the parameters of this scheme can be changed to allow a users experience on the site to be well balanced with the amount of time they spend, that is to say the content shouldn't be completly filled with end points.  \n",
    "The most natural way to do this is with logarthimic function of time. This allows for a platauing of value with an increase of time, the rate of increase and platuea can be change by paratemers.  \n",
    "$f(t) =\\alpha log(\\beta)$ "
   ]
  },
  {
   "cell_type": "code",
   "execution_count": 27,
   "metadata": {},
   "outputs": [],
   "source": [
    "import math\n",
    "#time is a float>0, however =0 defaults to returning 0\n",
    "#beta, alpha are floats>0\n",
    "def end_point_val(time,alpha,beta):\n",
    "    if time>0 and beta>0:\n",
    "        freq=alpha*math.log(beta*time)\n",
    "    else:\n",
    "        freq=0\n",
    "    return freq\n",
    "\n",
    "def get_time(time=10):\n",
    "    #platform specific function to get the time a user has spent on a platform\n",
    "    #Could get seconds, minutes, hours etc\n",
    "    return time\n",
    "\n",
    "def freq_to_prob(freq):\n",
    "    #platform specific function to convert the frequency result into a probality\n",
    "    return freq"
   ]
  },
  {
   "cell_type": "code",
   "execution_count": 29,
   "metadata": {},
   "outputs": [
    {
     "name": "stdout",
     "output_type": "stream",
     "text": [
      "0.6931471805599453\n"
     ]
    }
   ],
   "source": [
    "#example of use, get time, define parameters\n",
    "time=get_time()\n",
    "alpha=3\n",
    "beta=4\n",
    "freq=end_point_val(time,alpha,beta)\n",
    "#Intepret the freq result as desired\n",
    "amount_end_points=freq\n",
    "prob_of_post_being_end_point=freq_to_prob(freq)\n",
    "space_between_end_point=1/freq\n",
    "#Go on to use this to define where end point are placed throughout the social media site\n"
   ]
  },
  {
   "cell_type": "markdown",
   "metadata": {},
   "source": [
    "Below you can see how this function changes with time, using different parameters.    \n",
    "The $\\alpha$ parameter changes the maximum size of that freq takes, a higher $\\alpha$ gives us a higher ceiling to reach, meaning more end points appearing, a lower $\\alpha$ would reduce the maximum end points showing up, making for a potentially less intrusive experience. It also has a small impact on the rate of change.  \n",
    "The $\\beta$ parameter changes the how quickly the function reaches a higher value, with some effect on the ceiling, but majority of the impact being on rate of change. If a developer wanted a more senstive model to time with a more rapid change then a higher $\\beta$ value could be used. If they wanted it to be less sensisitive then a small value would be used, this would likely coencide with using seconds as the measurement of time.  \n",
    "So if time was measured in seconds but you wanted a more delayed change to the value of frequency, changing $\\beta$ to a low value would achieve this, but they may wish to increase $\\alpha$ to counteract the changes to the ceiling value of the freq that $\\beta has caused$.  \n",
    "Choosing the ideal $\\alpha$ and $\\beta$ values for a site will be highly dependent on the platform and the audience that platform is trying to serve, as well as how intrusive they end points can be tolerated being.    \n"
   ]
  }
 ],
 "metadata": {
  "interpreter": {
   "hash": "f9f85f796d01129d0dd105a088854619f454435301f6ffec2fea96ecbd9be4ac"
  },
  "kernelspec": {
   "display_name": "Python 3.9.6 64-bit",
   "language": "python",
   "name": "python3"
  },
  "language_info": {
   "codemirror_mode": {
    "name": "ipython",
    "version": 3
   },
   "file_extension": ".py",
   "mimetype": "text/x-python",
   "name": "python",
   "nbconvert_exporter": "python",
   "pygments_lexer": "ipython3",
   "version": "3.9.6"
  },
  "orig_nbformat": 4
 },
 "nbformat": 4,
 "nbformat_minor": 2
}
